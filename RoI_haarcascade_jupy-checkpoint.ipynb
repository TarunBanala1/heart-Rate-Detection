{
 "cells": [
  {
   "cell_type": "code",
   "execution_count": 2,
   "metadata": {
    "ExecuteTime": {
     "end_time": "2019-10-29T11:24:28.779082Z",
     "start_time": "2019-10-29T11:24:28.771072Z"
    }
   },
   "outputs": [
    {
     "name": "stdout",
     "output_type": "stream",
     "text": [
      "importing Jupyter notebook from plots_help.ipynb\n"
     ]
    }
   ],
   "source": [
    "import import_ipynb\n",
    "import plots_help"
   ]
  },
  {
   "cell_type": "code",
   "execution_count": 41,
   "metadata": {
    "ExecuteTime": {
     "end_time": "2019-10-21T17:40:34.033526Z",
     "start_time": "2019-10-21T17:40:04.729100Z"
    }
   },
   "outputs": [],
   "source": [
    "\n",
    "import PIL\n",
    "from PIL import Image\n",
    "\n",
    "for i in range(1,1432):\n",
    "    img = Image.open('C:\\\\Users\\\\Jayant\\\\Desktop\\\\ML_mini_prj\\\\sub27\\\\' + str(i) + '.png')\n",
    "    basewidth=64\n",
    "    wpercent = (basewidth / float(img.size[0]))\n",
    "    hsize = 64\n",
    "    img = img.resize((basewidth, hsize), PIL.Image.ANTIALIAS)\n",
    "    img.save(\"C:\\\\Users\\\\Jayant\\\\Desktop\\\\ana\\\\s27\\\\\"+str(i)+'.png')"
   ]
  },
  {
   "cell_type": "code",
   "execution_count": 1,
   "metadata": {
    "ExecuteTime": {
     "end_time": "2019-10-27T12:53:31.632335Z",
     "start_time": "2019-10-27T12:53:25.631121Z"
    }
   },
   "outputs": [],
   "source": [
    "\n",
    "import random\n",
    "from scipy import ndarray\n",
    "import skimage as sk\n",
    "from skimage import transform\n",
    "from skimage import util\n",
    "\n",
    "def random_rotation(image_array: ndarray):\n",
    "    # pick a random degree of rotation between 25% on the left and 25% on the right\n",
    "    random_degree = random.uniform(-25, 25)\n",
    "    return sk.transform.rotate(image_array, random_degree)\n",
    "\n",
    "def random_noise(image_array: ndarray):\n",
    "    # add random noise to the image\n",
    "    return sk.util.random_noise(image_array)\n",
    "\n",
    "def horizontal_flip(image_array: ndarray):\n",
    "    # horizontal flip doesn't need skimage, it's easy as flipping the image array of pixels !\n",
    "    return image_array[:, ::-1]"
   ]
  },
  {
   "cell_type": "code",
   "execution_count": null,
   "metadata": {},
   "outputs": [],
   "source": [
    "\n",
    "import random\n",
    "import os\n",
    "import skimage.io\n",
    "\n",
    "\n",
    "# our folder path containing some images\n",
    "folder_path = \"C:\\\\Users\\\\Jayant\\\\Desktop\\\\ML_mini_prj\\\\background\"\n",
    "# the number of file to generate\n",
    "num_files_desired = 10\n",
    "\n",
    "# loop on all files of the folder and build a list of files paths\n",
    "images = [os.path.join(folder_path, f) for f in os.listdir(folder_path) if os.path.isfile(os.path.join(folder_path, f))]\n",
    "\n",
    "num_generated_files = 0\n",
    "image_to_transform=None\n",
    "while num_generated_files <= num_files_desired:\n",
    "    # random image from the folder\n",
    "    image_path = random.choice(images)\n",
    "    # read image as an two dimensional array of pixels\n",
    "    image_to_transform = sk.io.imread(image_path)"
   ]
  },
  {
   "cell_type": "code",
   "execution_count": null,
   "metadata": {
    "scrolled": true
   },
   "outputs": [],
   "source": [
    "import os\n",
    "import random\n",
    "from scipy import ndarray\n",
    "\n",
    "import skimage as sk\n",
    "from skimage import transform\n",
    "from skimage import util\n",
    "from skimage import io\n",
    "\n",
    "def transleft(image_array: ndarray):\n",
    "    for j in range(480-1):\n",
    "        for i in range(640-1):\n",
    "            if (i < 640-20):\n",
    "                image_array[j][i] = image_array[j][i+20]\n",
    "    return image_array\n",
    "def transright(image_array: ndarray):\n",
    "    for j in range(480-1):\n",
    "        for i in range(639):\n",
    "            if (i < 640-20):\n",
    "                image_array[j][i] = image_array[j][i+20]\n",
    "    return image_array\n",
    "\n",
    "\n",
    "def horizontal_flip(image_array: ndarray):\n",
    "   \n",
    "    return image_array[:, ::-1]\n",
    "\n",
    "available_transformations = {\n",
    "    'trans': transleft,\n",
    "    'transr': transright,\n",
    "    'horizontal_flip': horizontal_flip\n",
    "}\n",
    "\n",
    "folder_path = \"C:\\\\Users\\\\Jayant\\\\Desktop\\\\ML_mini_prj\\\\background\"\n",
    "\n",
    "num_files_desired = 450\n",
    "\n",
    "\n",
    "images = [os.path.join(folder_path, f) for f in os.listdir(folder_path) if os.path.isfile(os.path.join(folder_path, f))]\n",
    "\n",
    "num_generated_files = 10\n",
    "while num_generated_files <= num_files_desired:\n",
    "    # random image from the folder\n",
    "    image_path = random.choice(images)\n",
    "    image_to_transform = sk.io.imread(image_path)\n",
    "\n",
    "    num_transformations_to_apply = random.randint(1, len(available_transformations))\n",
    "\n",
    "    num_transformations = 0\n",
    "    transformed_image = None\n",
    "    while num_transformations <= num_transformations_to_apply:\n",
    "       \n",
    "        key = random.choice(list(available_transformations))\n",
    "        transformed_image = available_transformations[key](image_to_transform)\n",
    "        num_transformations += 1\n",
    "\n",
    "    new_file_path = '%s/%s.png' % (folder_path, num_generated_files)\n",
    "    print(num_generated_files)\n",
    " \n",
    "    io.imsave(new_file_path, transformed_image)\n",
    "    num_generated_files += 1"
   ]
  },
  {
   "cell_type": "code",
   "execution_count": null,
   "metadata": {},
   "outputs": [],
   "source": [
    "##################################################\n",
    "########################"
   ]
  },
  {
   "cell_type": "code",
   "execution_count": 3,
   "metadata": {
    "ExecuteTime": {
     "end_time": "2019-10-30T12:07:58.376685Z",
     "start_time": "2019-10-30T12:07:55.085823Z"
    }
   },
   "outputs": [],
   "source": [
    "import cv2\n",
    "from sklearn.decomposition import FastICA\n",
    "from sklearn.decomposition import PCA\n",
    "import sys\n",
    "import numpy as np\n",
    "import matplotlib.pyplot as plt\n",
    "from scipy import signal\n",
    "\n",
    "import random"
   ]
  },
  {
   "cell_type": "code",
   "execution_count": 9,
   "metadata": {
    "ExecuteTime": {
     "end_time": "2019-10-29T12:39:23.414686Z",
     "start_time": "2019-10-29T12:39:23.407850Z"
    }
   },
   "outputs": [],
   "source": [
    "\n",
    "#calculates frame rate of a video"
   ]
  },
  {
   "cell_type": "code",
   "execution_count": 150,
   "metadata": {
    "ExecuteTime": {
     "end_time": "2019-11-06T10:39:32.539286Z",
     "start_time": "2019-11-06T10:39:30.530818Z"
    },
    "scrolled": true
   },
   "outputs": [
    {
     "name": "stdout",
     "output_type": "stream",
     "text": [
      "Frames per second  : 29.948009\n"
     ]
    }
   ],
   "source": [
    "import cv2\n",
    "import sys\n",
    "import numpy as np\n",
    "import matplotlib.pyplot as plt\n",
    "from scipy import signal\n",
    "from sklearn.decomposition import FastICA\n",
    "from sklearn.decomposition import PCA\n",
    "import random\n",
    "import pandas as pd\n",
    "\n",
    "def frame_ps_video(DEFAULT_VIDEO):\n",
    "\tvideo = cv2.VideoCapture(DEFAULT_VIDEO)\n",
    "\t \n",
    "\n",
    "\t(major_ver, minor_ver, subminor_ver) = (cv2.__version__).split('.')\n",
    "\n",
    "\tif int(major_ver)  < 3 :\n",
    "\t    fps = video.get(cv2.cv.CV_CAP_PROP_FPS)\n",
    "\n",
    "\t    print( \"Frames per second : {0}\".format(fps))\n",
    "\t    video.release()\n",
    "\t    return fps\n",
    "\telse :\n",
    "\t    fps = video.get(cv2.CAP_PROP_FPS)\n",
    "\t    print( \"Frames per second  : {0}\".format(fps))\n",
    "\t    video.release()\n",
    "\t    return fps\n",
    "\n",
    "eye_remove = False\n",
    "#can change to true/false\n",
    "\n",
    "CASCADE_PATH = \"haarcascade_frontalface_default.xml\"\n",
    "\n",
    "#DEFAULT_VIDEO = \"/home/jayant/Desktop/ML_mini_prj/subject27/vid.avi\"  #true val-89bpm\n",
    "#DEFAULT_VIDEO = \"/home/jayant/Desktop/ML_mini_prj/subject4/vid.avi\" #true val-110 bpm \n",
    "DEFAULT_VIDEO = \"/home/jayant/Desktop/ML_mini_prj/subject42/vid.avi\"\n",
    "#DEFAULT_VIDEO = \"/home/jayant/Desktop/ML_mini_prj/subject5/vid.avi\"\n",
    "\n",
    "MIN_FACE_SIZE = 100\n",
    "\n",
    "WIDTH_FRACTION = 0.8 # Fraction of bounding box width to include in ROI\n",
    "HEIGHT_FRACTION = 1\n",
    "\n",
    "FPS = frame_ps_video(DEFAULT_VIDEO)\n",
    "jojo=8   #window_time_sec initialize\n",
    "\n",
    "if FPS>=20 and FPS<25:\n",
    "\tjojo=10\n",
    "elif FPS>=25 and FPS<=32 :\n",
    "\tjojo=30\n",
    "elif FPS>32:\n",
    "\tjojo=20\n",
    "\n",
    "WINDOW_TIME_SEC = jojo\n",
    "\n",
    "WINDOW_SIZE = int(np.ceil(WINDOW_TIME_SEC * FPS))\n",
    "MIN_HR_BPM = 50.0\n",
    "MAX_HR_BMP = 240.0\n",
    "MAX_HR_CHANGE = 12.0\n",
    "SEC_PER_MIN = 60\n",
    "\n",
    "EYE_LOWER_FRAC = 0.35\n",
    "EYE_UPPER_FRAC = 0.5\n",
    "\n",
    "\n",
    "\n"
   ]
  },
  {
   "cell_type": "code",
   "execution_count": 151,
   "metadata": {
    "ExecuteTime": {
     "end_time": "2019-11-06T10:39:32.575469Z",
     "start_time": "2019-11-06T10:39:32.569522Z"
    }
   },
   "outputs": [],
   "source": [
    "def roi_util(image, faceBox): \n",
    "\n",
    "    widthFrac = WIDTH_FRACTION\n",
    "    heigtFrac = HEIGHT_FRACTION\n",
    "\n",
    "    # Adjust bounding box\n",
    "    (x, y, w, h) = faceBox\n",
    "    widthOffset = int((1 - widthFrac) * w / 2)\n",
    "    heightOffset = int((1 - heigtFrac) * h / 2)\n",
    "    faceBoxAdjusted = (x + widthOffset, y + heightOffset,int(widthFrac * w), int(heigtFrac * h))\n",
    "    (x, y, w, h) = faceBoxAdjusted\n",
    "    backgrndMask = np.full(image.shape, True, dtype=bool)\n",
    "    backgrndMask[y:y+h, x:x+w, :] = False \n",
    "\n",
    "    if eye_remove:\n",
    "        backgrndMask[int(y + h * EYE_LOWER_FRAC) :int( y + h * EYE_UPPER_FRAC), :] = True\n",
    "\n",
    "\n",
    "    roi = np.ma.array(image, mask=backgrndMask) # Masked array\n",
    "    return roi\n"
   ]
  },
  {
   "cell_type": "code",
   "execution_count": 155,
   "metadata": {
    "ExecuteTime": {
     "end_time": "2019-11-06T10:39:33.605479Z",
     "start_time": "2019-11-06T10:39:33.598499Z"
    }
   },
   "outputs": [],
   "source": [
    "\n",
    "# Sum of square differences between x1, x2, y1, y2 points for each ROI\n",
    "\n",
    "\n",
    "def distance(roi1, roi2):\n",
    "    return sum((roi1[i] - roi2[i])**2 for i in range(len(roi1)))\n",
    "\n",
    "def roi_extract(frame, faceCascade, previousFaceBox):\n",
    "    grey = cv2.cvtColor(frame, cv2.COLOR_BGR2GRAY)\n",
    "    faces = faceCascade.detectMultiScale(grey, scaleFactor=1.1,minNeighbors=5, minSize=(MIN_FACE_SIZE, MIN_FACE_SIZE), flags=cv2.CASCADE_SCALE_IMAGE)\n",
    "\n",
    "    roi = None\n",
    "    faceBox = None\n",
    "\n",
    "    # If no face detected, use ROI from previous frame\n",
    "    if len(faces) == 0:\n",
    "        faceBox = previousFaceBox\n",
    "\n",
    "    # if many faces detected, use one closest to that from previous frame\n",
    "    #standard way\n",
    "    elif len(faces) > 1:\n",
    "        if previousFaceBox is not None:\n",
    "            # Find closest\n",
    "            minDist = float(\"inf\")\n",
    "            for face in faces:\n",
    "                if distance(previousFaceBox, face) < minDist:\n",
    "                    faceBox = face\n",
    "        else:\n",
    "            # Chooses largest box by area \n",
    "            maxArea = 0\n",
    "            for face in faces:\n",
    "                if (face[2] * face[3]) > maxArea:\n",
    "                    faceBox = face\n",
    "\n",
    "    # If only one face dectected\n",
    "    else:\n",
    "        faceBox = faces[0]\n",
    "\n",
    "        # Show rectangle\n",
    "        #(x, y, w, h) = faceBox\n",
    "        #cv2.rectangle(frame, (x, y), (x+w, y+h), (255, 255, 255), 2)\n",
    "    if faceBox is not None:\n",
    "        roi = roi_util(frame, faceBox)\n",
    "\n",
    "    return faceBox, roi\n"
   ]
  },
  {
   "cell_type": "code",
   "execution_count": 141,
   "metadata": {},
   "outputs": [],
   "source": [
    "def graph_sig(signal):\n",
    "    fig = plt.figure()\n",
    "    seconds = np.arange(0, WINDOW_TIME_SEC, float(1/ FPS))\n",
    "    diff = [\"r\", \"g\", \"b\"]\n",
    "    \n",
    "    \n",
    "    \n",
    "    plt.plot(seconds, signal[:,0], diff[0])\n",
    "    plt.plot(seconds, signal[:,1], diff[1])\n",
    "    plt.plot(seconds, signal[:,2], diff[2])\n",
    "      \n",
    "    plt.xlim(0,30)\n",
    "    plt.grid(axis=\"x\", color=\"green\", alpha=.3, linewidth=2, linestyle=\":\")\n",
    "    plt.grid(axis=\"y\", color=\"black\", alpha=.5, linewidth=.5)\n",
    "    plt.xlabel('time (sec)')\n",
    "    plt.ylabel(\"Decomposed signal\")\n",
    "\n",
    "    plt.show()\n"
   ]
  },
  {
   "cell_type": "code",
   "execution_count": 142,
   "metadata": {},
   "outputs": [],
   "source": [
    "def plot_hr(ref):\n",
    "    time = range(48)\n",
    "    plt.figure()\n",
    "    plt.plot(time, ref)\n",
    "    plt.xlabel(\"instant\")\n",
    "    plt.ylabel(\"Heart rate variability\")\n",
    "    plt.show()"
   ]
  },
  {
   "cell_type": "code",
   "execution_count": 101,
   "metadata": {},
   "outputs": [],
   "source": [
    "def power_gr(freq, power):\n",
    "  \n",
    "    #fig = plt.figure()\n",
    "    \n",
    "    plt.plot(freq, power[:,0])\n",
    "    plt.plot(freq, power[:,1])\n",
    "    plt.plot(freq, power[:,2])\n",
    "  \n",
    "    plt.xlim(0,4)\n",
    "    plt.grid(axis=\"x\", color=\"green\", alpha=.3, linewidth=2, linestyle=\":\")\n",
    "    plt.grid(axis=\"y\", color=\"black\", alpha=.5, linewidth=.5)\n",
    "    \n",
    "\n",
    "    plt.xlabel(\"Freq (Hz)\")\n",
    "    plt.ylabel(\"power\")\n",
    "    plt.show()"
   ]
  },
  {
   "cell_type": "code",
   "execution_count": 156,
   "metadata": {
    "ExecuteTime": {
     "end_time": "2019-11-06T10:39:35.331704Z",
     "start_time": "2019-11-06T10:39:35.324725Z"
    }
   },
   "outputs": [],
   "source": [
    "\n",
    "def extract_heartrate(window, lastHR):\n",
    "    # Normalize across the window to have zero-mean and unit variance\n",
    "    mean = np.mean(window, axis=0)\n",
    "    std = np.std(window, axis=0)\n",
    "    normalized = (window - mean) / std\n",
    "\n",
    "    # decompose into three source signals using ICA\n",
    "#     ica = FastICA(tol=0.01)\n",
    "#     srcSig = ica.fit_transform(normalized)\n",
    "    \n",
    "    pca = PCA(n_components=3)\n",
    "    srcSig = pca.fit_transform(normalized)\n",
    "    #uncommment to decompose using PCA\n",
    "\n",
    "    # Find power spectrum\n",
    "    powerSpec = np.abs(np.fft.fft(srcSig, axis=0))**2\n",
    "    freqs = np.fft.fftfreq(WINDOW_SIZE, 1.0 / FPS)\n",
    "\n",
    "    # Find heart rate\n",
    "    maxPwrSrc = np.max(powerSpec, axis=1)\n",
    "    validIdx = np.where((freqs >= MIN_HR_BPM / SEC_PER_MIN) & (freqs <= MAX_HR_BMP / SEC_PER_MIN))\n",
    "    validPwr = maxPwrSrc[validIdx]\n",
    "    validFreqs = freqs[validIdx]\n",
    "    maxPwrIdx = np.argmax(validPwr)\n",
    "    hr = validFreqs[maxPwrIdx]\n",
    "    print (hr) #printing heart beats/sec as time window slides\n",
    "\n",
    "   # graph_sig(srcSig)\n",
    "   # power_gr(freqs,powerSpec)\n",
    "\n",
    "    #print(\"mecca\")\n",
    "    return hr\n"
   ]
  },
  {
   "cell_type": "code",
   "execution_count": 158,
   "metadata": {
    "ExecuteTime": {
     "end_time": "2019-11-06T11:00:37.223519Z",
     "start_time": "2019-11-06T11:00:37.204527Z"
    },
    "scrolled": true
   },
   "outputs": [
    {
     "name": "stdout",
     "output_type": "stream",
     "text": [
      "1.6323163971078978\n",
      "1.6323163971078978\n",
      "1.6323163971078978\n",
      "1.6323163971078978\n",
      "1.6323163971078978\n",
      "1.6323163971078978\n",
      "1.6323163971078978\n",
      "1.5990038175750834\n",
      "1.6323163971078978\n",
      "1.6323163971078978\n",
      "1.6323163971078978\n",
      "1.6323163971078978\n",
      "1.6323163971078978\n",
      "1.6323163971078978\n",
      "1.6323163971078978\n",
      "1.6323163971078978\n",
      "1.6323163971078978\n",
      "1.6323163971078978\n",
      "1.6323163971078978\n",
      "1.6323163971078978\n",
      "1.6323163971078978\n",
      "1.6323163971078978\n",
      "1.6323163971078978\n",
      "1.6323163971078978\n",
      "1.6323163971078978\n",
      "1.6323163971078978\n",
      "1.6323163971078978\n",
      "1.7322541357063403\n",
      "1.7322541357063403\n",
      "1.7322541357063403\n",
      "1.6323163971078978\n"
     ]
    },
    {
     "ename": "KeyboardInterrupt",
     "evalue": "",
     "output_type": "error",
     "traceback": [
      "\u001b[0;31m---------------------------------------------------------------------------\u001b[0m",
      "\u001b[0;31mKeyboardInterrupt\u001b[0m                         Traceback (most recent call last)",
      "\u001b[0;32m<ipython-input-158-579601e2b4d4>\u001b[0m in \u001b[0;36m<module>\u001b[0;34m\u001b[0m\n\u001b[1;32m     13\u001b[0m         \u001b[0;32mbreak\u001b[0m\u001b[0;34m\u001b[0m\u001b[0;34m\u001b[0m\u001b[0m\n\u001b[1;32m     14\u001b[0m \u001b[0;34m\u001b[0m\u001b[0m\n\u001b[0;32m---> 15\u001b[0;31m     \u001b[0mpreviousFaceBox\u001b[0m\u001b[0;34m,\u001b[0m \u001b[0mroi\u001b[0m \u001b[0;34m=\u001b[0m \u001b[0mroi_extract\u001b[0m\u001b[0;34m(\u001b[0m\u001b[0mframe\u001b[0m\u001b[0;34m,\u001b[0m \u001b[0mfaceCascade\u001b[0m\u001b[0;34m,\u001b[0m \u001b[0mpreviousFaceBox\u001b[0m\u001b[0;34m)\u001b[0m\u001b[0;34m\u001b[0m\u001b[0;34m\u001b[0m\u001b[0m\n\u001b[0m\u001b[1;32m     16\u001b[0m     \u001b[0;31m#print(previousFaceBox) #eg--[275 181 160 160]\u001b[0m\u001b[0;34m\u001b[0m\u001b[0;34m\u001b[0m\u001b[0;34m\u001b[0m\u001b[0m\n\u001b[1;32m     17\u001b[0m \u001b[0;31m#     cc=1\u001b[0m\u001b[0;34m\u001b[0m\u001b[0;34m\u001b[0m\u001b[0;34m\u001b[0m\u001b[0m\n",
      "\u001b[0;32m<ipython-input-155-e84f5ce41273>\u001b[0m in \u001b[0;36mroi_extract\u001b[0;34m(frame, faceCascade, previousFaceBox)\u001b[0m\n\u001b[1;32m      7\u001b[0m \u001b[0;32mdef\u001b[0m \u001b[0mroi_extract\u001b[0m\u001b[0;34m(\u001b[0m\u001b[0mframe\u001b[0m\u001b[0;34m,\u001b[0m \u001b[0mfaceCascade\u001b[0m\u001b[0;34m,\u001b[0m \u001b[0mpreviousFaceBox\u001b[0m\u001b[0;34m)\u001b[0m\u001b[0;34m:\u001b[0m\u001b[0;34m\u001b[0m\u001b[0;34m\u001b[0m\u001b[0m\n\u001b[1;32m      8\u001b[0m     \u001b[0mgrey\u001b[0m \u001b[0;34m=\u001b[0m \u001b[0mcv2\u001b[0m\u001b[0;34m.\u001b[0m\u001b[0mcvtColor\u001b[0m\u001b[0;34m(\u001b[0m\u001b[0mframe\u001b[0m\u001b[0;34m,\u001b[0m \u001b[0mcv2\u001b[0m\u001b[0;34m.\u001b[0m\u001b[0mCOLOR_BGR2GRAY\u001b[0m\u001b[0;34m)\u001b[0m\u001b[0;34m\u001b[0m\u001b[0;34m\u001b[0m\u001b[0m\n\u001b[0;32m----> 9\u001b[0;31m     \u001b[0mfaces\u001b[0m \u001b[0;34m=\u001b[0m \u001b[0mfaceCascade\u001b[0m\u001b[0;34m.\u001b[0m\u001b[0mdetectMultiScale\u001b[0m\u001b[0;34m(\u001b[0m\u001b[0mgrey\u001b[0m\u001b[0;34m,\u001b[0m \u001b[0mscaleFactor\u001b[0m\u001b[0;34m=\u001b[0m\u001b[0;36m1.1\u001b[0m\u001b[0;34m,\u001b[0m\u001b[0mminNeighbors\u001b[0m\u001b[0;34m=\u001b[0m\u001b[0;36m5\u001b[0m\u001b[0;34m,\u001b[0m \u001b[0mminSize\u001b[0m\u001b[0;34m=\u001b[0m\u001b[0;34m(\u001b[0m\u001b[0mMIN_FACE_SIZE\u001b[0m\u001b[0;34m,\u001b[0m \u001b[0mMIN_FACE_SIZE\u001b[0m\u001b[0;34m)\u001b[0m\u001b[0;34m,\u001b[0m \u001b[0mflags\u001b[0m\u001b[0;34m=\u001b[0m\u001b[0mcv2\u001b[0m\u001b[0;34m.\u001b[0m\u001b[0mCASCADE_SCALE_IMAGE\u001b[0m\u001b[0;34m)\u001b[0m\u001b[0;34m\u001b[0m\u001b[0;34m\u001b[0m\u001b[0m\n\u001b[0m\u001b[1;32m     10\u001b[0m \u001b[0;34m\u001b[0m\u001b[0m\n\u001b[1;32m     11\u001b[0m     \u001b[0mroi\u001b[0m \u001b[0;34m=\u001b[0m \u001b[0;32mNone\u001b[0m\u001b[0;34m\u001b[0m\u001b[0;34m\u001b[0m\u001b[0m\n",
      "\u001b[0;31mKeyboardInterrupt\u001b[0m: "
     ]
    }
   ],
   "source": [
    "\n",
    "\n",
    "video = cv2.VideoCapture( DEFAULT_VIDEO)\n",
    "faceCascade = cv2.CascadeClassifier(CASCADE_PATH)\n",
    "\n",
    "colorSig = [] # Will store the average RGB color values in each frame's ROI\n",
    "heartRates = [] # Will store the heart rate calculated every 1 second\n",
    "previousFaceBox = None\n",
    "dd=0\n",
    "memset=None\n",
    "while True:\n",
    "    # Capture frame-by-frame\n",
    "    ret, frame = video.read()\n",
    "    if not ret:\n",
    "        break\n",
    "\n",
    "    previousFaceBox, roi = roi_extract(frame, faceCascade, previousFaceBox)\n",
    "    #print(previousFaceBox) #eg--[275 181 160 160]\n",
    "#     cc=1\n",
    "#     if(cc==1):\n",
    "#         print(roi)\n",
    "#         cc+=1\n",
    "\n",
    "    if (roi is not None) and (np.size(roi) > 0):\n",
    "        colorChannels = roi.reshape(-1, roi.shape[-1])\n",
    "        \n",
    "        if dd==0:\n",
    "           # print(colorChannels)\n",
    "            memset=colorChannels\n",
    "            dd+=1\n",
    "            \n",
    "            \n",
    "        avgColor = colorChannels.mean(axis=0)\n",
    "        colorSig.append(avgColor)\n",
    "   # print(len(colorSig))\n",
    "\n",
    "    # Calculate heart rate every one second (once have 10sec or 15 sec or 20 sec of data depends on jojo)\n",
    "    if (len(colorSig) >= WINDOW_SIZE) and (len(colorSig) % np.ceil(FPS) == 0):\n",
    "        windowStart = len(colorSig) - WINDOW_SIZE\n",
    "        window = colorSig[windowStart : windowStart + WINDOW_SIZE]\n",
    "        lastHR = heartRates[-1] if len(heartRates) > 0 else None\n",
    "        heartRates.append(extract_heartrate(window, lastHR))\n",
    "\n",
    "    if np.ma.is_masked(roi):\n",
    "        roi = np.where(roi.mask == True, 0, roi)\n",
    "    \n",
    "    cv2.imshow('Image',roi)\n",
    "    cv2.waitKey(1)\n",
    "\n",
    "print()\n",
    "print( \"just a theoretical mean \",np.mean(heartRates)*60)\n",
    "print()\n",
    "print(\"Instances captured --\",len(heartRates))\n",
    " \n",
    "pd.DataFrame(heartRates).to_csv(\"result_bps.csv\")\n",
    "video.release()\n",
    "cv2.destroyAllWindows()"
   ]
  },
  {
   "cell_type": "code",
   "execution_count": 104,
   "metadata": {},
   "outputs": [],
   "source": [
    "temp=[60*rr for rr in heartRates[0:48]]"
   ]
  },
  {
   "cell_type": "code",
   "execution_count": 108,
   "metadata": {
    "scrolled": true
   },
   "outputs": [
    {
     "data": {
      "image/png": "[encoded data removed]",
      "text/plain": [
       "<Figure size 432x288 with 1 Axes>"
      ]
     },
     "metadata": {
      "needs_background": "light"
     },
     "output_type": "display_data"
    }
   ],
   "source": [
    "plot_hr(temp)"
   ]
  },
  {
   "cell_type": "code",
   "execution_count": 33,
   "metadata": {},
   "outputs": [
    {
     "data": {
      "text/plain": [
       "98.2769141935484"
      ]
     },
     "execution_count": 33,
     "metadata": {},
     "output_type": "execute_result"
    }
   ],
   "source": [
    "import pandas as pd\n",
    "import numpy as np\n",
    "addr='/home/jayant/Desktop/ML_mini_prj/subject5/ground_truth.txt'\n",
    "ground_truth = pd.read_fwf(addr,sep=\" \", header=None)\n",
    "ground_truth.sum(axis = 1, skipna = True)[1]/ground_truth.shape[1]\n"
   ]
  },
  {
   "cell_type": "code",
   "execution_count": null,
   "metadata": {},
   "outputs": [],
   "source": []
  },
  {
   "cell_type": "code",
   "execution_count": 21,
   "metadata": {
    "scrolled": true
   },
   "outputs": [
    {
     "name": "stdout",
     "output_type": "stream",
     "text": [
      "Haar Cascade Segmentation\n"
     ]
    },
    {
     "data": {
      "text/html": [
       "<div>\n",
       "<style scoped>\n",
       "    .dataframe tbody tr th:only-of-type {\n",
       "        vertical-align: middle;\n",
       "    }\n",
       "\n",
       "    .dataframe tbody tr th {\n",
       "        vertical-align: top;\n",
       "    }\n",
       "\n",
       "    .dataframe thead th {\n",
       "        text-align: right;\n",
       "    }\n",
       "</style>\n",
       "<table border=\"1\" class=\"dataframe\">\n",
       "  <thead>\n",
       "    <tr style=\"text-align: right;\">\n",
       "      <th></th>\n",
       "      <th>Actual Heart Rate</th>\n",
       "      <th>ICA decomposition</th>\n",
       "      <th>MAE of ICA decomposition</th>\n",
       "      <th>PCA decomposition</th>\n",
       "      <th>MAE of PCA decomposition</th>\n",
       "    </tr>\n",
       "  </thead>\n",
       "  <tbody>\n",
       "    <tr>\n",
       "      <td>Subject 42</td>\n",
       "      <td>94</td>\n",
       "      <td>98</td>\n",
       "      <td>4</td>\n",
       "      <td>99</td>\n",
       "      <td>3</td>\n",
       "    </tr>\n",
       "    <tr>\n",
       "      <td>Subject 27</td>\n",
       "      <td>89</td>\n",
       "      <td>85</td>\n",
       "      <td>4</td>\n",
       "      <td>81</td>\n",
       "      <td>8</td>\n",
       "    </tr>\n",
       "    <tr>\n",
       "      <td>Subject 4</td>\n",
       "      <td>110</td>\n",
       "      <td>95</td>\n",
       "      <td>15</td>\n",
       "      <td>85</td>\n",
       "      <td>25</td>\n",
       "    </tr>\n",
       "    <tr>\n",
       "      <td>Subject 5</td>\n",
       "      <td>98</td>\n",
       "      <td>99</td>\n",
       "      <td>1</td>\n",
       "      <td>84</td>\n",
       "      <td>14</td>\n",
       "    </tr>\n",
       "    <tr>\n",
       "      <td>Subject 25</td>\n",
       "      <td>91</td>\n",
       "      <td>94</td>\n",
       "      <td>3</td>\n",
       "      <td>82</td>\n",
       "      <td>9</td>\n",
       "    </tr>\n",
       "  </tbody>\n",
       "</table>\n",
       "</div>"
      ],
      "text/plain": [
       "            Actual Heart Rate   ICA decomposition   MAE of ICA decomposition  \\\n",
       " Subject 42                94                  98                          4   \n",
       " Subject 27                89                  85                          4   \n",
       " Subject 4                110                  95                         15   \n",
       " Subject 5                 98                  99                          1   \n",
       " Subject 25                91                  94                          3   \n",
       "\n",
       "              PCA decomposition   MAE of PCA decomposition  \n",
       " Subject 42                  99                          3  \n",
       " Subject 27                  81                          8  \n",
       " Subject 4                   85                         25  \n",
       " Subject 5                   84                         14  \n",
       " Subject 25                  82                          9  "
      ]
     },
     "execution_count": 21,
     "metadata": {},
     "output_type": "execute_result"
    }
   ],
   "source": [
    "import pandas as pd\n",
    "data = {'Actual Heart Rate':['94', '89', '110', '98','91'],' ICA decomposition':[98,85,95,99,94],' MAE of ICA decomposition':[4,4,15,1,3],' PCA decomposition':[99,81,85,84,82],' MAE of PCA decomposition':[3,8,25,14,9]}\n",
    "df = pd.DataFrame(data, index=[' Subject 42',' Subject 27',' Subject 4',' Subject 5',' Subject 25'])\n",
    "print(\"Haar Cascade Segmentation\")\n",
    "df"
   ]
  },
  {
   "cell_type": "code",
   "execution_count": null,
   "metadata": {},
   "outputs": [],
   "source": []
  },
  {
   "cell_type": "code",
   "execution_count": null,
   "metadata": {},
   "outputs": [],
   "source": []
  }
 ],
 "metadata": {
  "kernelspec": {
   "display_name": "Python 3",
   "language": "python",
   "name": "python3"
  },
  "language_info": {
   "codemirror_mode": {
    "name": "ipython",
    "version": 3
   },
   "file_extension": ".py",
   "mimetype": "text/x-python",
   "name": "python",
   "nbconvert_exporter": "python",
   "pygments_lexer": "ipython3",
   "version": "3.6.9"
  },
  "varInspector": {
   "cols": {
    "lenName": 16,
    "lenType": 16,
    "lenVar": 40
   },
   "kernels_config": {
    "python": {
     "delete_cmd_postfix": "",
     "delete_cmd_prefix": "del ",
     "library": "var_list.py",
     "varRefreshCmd": "print(var_dic_list())"
    },
    "r": {
     "delete_cmd_postfix": ") ",
     "delete_cmd_prefix": "rm(",
     "library": "var_list.r",
     "varRefreshCmd": "cat(var_dic_list()) "
    }
   },
   "types_to_exclude": [
    "module",
    "function",
    "builtin_function_or_method",
    "instance",
    "_Feature"
   ],
   "window_display": false
  }
 },
 "nbformat": 4,
 "nbformat_minor": 2
}
